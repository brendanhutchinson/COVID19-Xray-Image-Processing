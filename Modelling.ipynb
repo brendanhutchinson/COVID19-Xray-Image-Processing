{
 "cells": [
  {
   "cell_type": "code",
   "execution_count": null,
   "id": "b9aededa",
   "metadata": {},
   "outputs": [],
   "source": [
    "from tensorflow.keras.utils import to_categorical\n",
    "from tensorflow.keras.models import Sequential\n",
    "from tensorflow.keras.layers import Dense \n",
    "from tensorflow.keras.layers import Flatten \n",
    "from tensorflow.keras.layers import Conv2D \n",
    "from tensorflow.keras.layers import MaxPooling2D \n",
    "from tensorflow.keras.applications import VGG16\n",
    "import matplotlib.pyplot as plt"
   ]
  },
  {
   "cell_type": "code",
   "execution_count": null,
   "id": "a1979f49",
   "metadata": {},
   "outputs": [],
   "source": [
    "# get generators from py file \n",
    "%run image_generators.py"
   ]
  },
  {
   "cell_type": "code",
   "execution_count": null,
   "id": "bdcf87bd",
   "metadata": {},
   "outputs": [],
   "source": [
    "\n",
    "model = Sequential()\n",
    "# define 3x3 filter window sizes. Create 32 filters.\n",
    "model.add(Conv2D(filters=32,\n",
    "                        kernel_size=(3, 3),\n",
    "                        activation='relu',\n",
    "                        input_shape=(224, 224, 3)))\n",
    "\n",
    "\n",
    "# max pool in 2x2 window\n",
    "model.add(MaxPooling2D(pool_size=(2, 2)))\n",
    "# define 3x3 filter window sizes. Create 64 filters.\n",
    "model.add(Conv2D(64, (3, 3), activation='relu'))\n",
    "model.add(MaxPooling2D((2, 2)))\n",
    "model.add(Conv2D(64, (3, 3), activation='relu'))\n",
    "\n",
    "# connect nodes all nodes with dense layers \n",
    "model.add(Flatten())\n",
    "model.add(Dense(64, activation='relu'))\n",
    "model.add(Dense(2, activation='sigmoid'))\n",
    "\n",
    "\n",
    "bce = tf.keras.losses.BinaryCrossentropy()\n",
    "\n",
    "\n",
    "model.compile(optimizer='adam', loss=bce,  metrics=['accuracy'])"
   ]
  },
  {
   "cell_type": "code",
   "execution_count": null,
   "id": "185fb460",
   "metadata": {},
   "outputs": [],
   "source": [
    "# fit model - CT\n",
    "\n",
    "CT_base_model = model.fit(\n",
    "        ct_train_generator,\n",
    "        steps_per_epoch=100,verbose = 1,validation_data = ct_validation_generator, \n",
    "        epochs=10)"
   ]
  },
  {
   "cell_type": "code",
   "execution_count": null,
   "id": "c3e3db31",
   "metadata": {},
   "outputs": [],
   "source": [
    "# fit model - X-Ray\n",
    "XR_base_model = model.fit(\n",
    "        XR_train_generator,\n",
    "        steps_per_epoch=100,verbose =1,validation_data = xr_validation_generator, \n",
    "        epochs=10)"
   ]
  },
  {
   "cell_type": "code",
   "execution_count": null,
   "id": "9e87f3bd",
   "metadata": {},
   "outputs": [],
   "source": [
    "# base model evaluation - CT scans\n",
    "\n",
    "y_pred = model.predict(ct_train_generator)\n",
    "y_pred_classes = np.argmax(y_pred, axis=1)\n",
    "y_true_classes = np.argmax(ct_train_generator, axis=1)\n",
    "\n",
    "cm = confusion_matrix(y_true_classes, y_pred_classes)\n",
    "print(cm)\n",
    "\n",
    "\n",
    "\n",
    "y_pred = model.predict(ct_train_generator)\n",
    "fpr, tpr, thresholds = roc_curve(ct_train_generator, y_pred)\n",
    "roc_auc = auc(fpr, tpr)\n",
    "\n",
    "import matplotlib.pyplot as plt\n",
    "\n",
    "plt.plot(fpr, tpr)\n",
    "         \n",
    "         \n",
    "         "
   ]
  },
  {
   "cell_type": "code",
   "execution_count": null,
   "id": "b038303a",
   "metadata": {},
   "outputs": [],
   "source": [
    "plt.plot(fpr, tpr)"
   ]
  },
  {
   "cell_type": "code",
   "execution_count": null,
   "id": "c003e25b",
   "metadata": {},
   "outputs": [],
   "source": [
    "## vgg16\n",
    "\n",
    "vgg_model = VGG16(weights='imagenet', include_top=False, input_shape=(224, 224, 3))\n",
    "\n",
    "vggmodel = tf.keras.models.Sequential()\n",
    "vggmodel.add(vgg_model)\n",
    "vggmodel.add(tf.keras.layers.Flatten())\n",
    "vggmodel.add(tf.keras.layers.Dense(256, activation='relu'))\n",
    "vggmodel.add(tf.keras.layers.Dropout(0.5))\n",
    "vggmodel.add(tf.keras.layers.Dense(1, activation='softmax'))\n",
    "\n",
    "vggmodel.compile(loss='binary_crossentropy', optimizer='adam', metrics=['accuracy'])"
   ]
  },
  {
   "cell_type": "code",
   "execution_count": null,
   "id": "b6bcfa15",
   "metadata": {},
   "outputs": [],
   "source": [
    "vggmodel.fit_generator(ct_train_generator,\n",
    "                    steps_per_epoch=20,\n",
    "                    epochs=10,\n",
    "                    validation_data=ct_validation_generator)"
   ]
  },
  {
   "cell_type": "code",
   "execution_count": null,
   "id": "358456b4",
   "metadata": {},
   "outputs": [],
   "source": [
    "vggmodel.fit_generator(xr_train_generator,\n",
    "                    steps_per_epoch=20,\n",
    "                    epochs=10,\n",
    "                    validation_data=xr_validation_generator)"
   ]
  },
  {
   "cell_type": "code",
   "execution_count": null,
   "id": "9433d81d",
   "metadata": {},
   "outputs": [],
   "source": [
    "# tuning base model \n",
    "\n",
    "model2 = Sequential()\n",
    "\n",
    "model2.add(Conv2D(filters=32,\n",
    "                        kernel_size=(3, 3),\n",
    "                        activation='relu',\n",
    "                        input_shape=(224, 224, 3)))\n",
    "\n",
    "\n",
    "\n",
    "model2.add(MaxPooling2D(pool_size=(2, 2)))\n",
    "\n",
    "model2.add(Conv2D(64, (3, 3), activation='relu'))\n",
    "model2.add(MaxPooling2D((2, 2)))\n",
    "model2.add(Conv2D(64, (3, 3), activation='relu'))\n",
    "\n",
    "\n",
    "model2.add(Flatten())\n",
    "model2.add(Dense(64, activation='relu'))\n",
    "model2.add(Dense(8, activation='tahn'))\n",
    "model2.add(Dense(2, activation='sigmoid'))\n"
   ]
  },
  {
   "cell_type": "code",
   "execution_count": null,
   "id": "7c35ba6d",
   "metadata": {},
   "outputs": [],
   "source": []
  },
  {
   "cell_type": "code",
   "execution_count": null,
   "id": "586da5af",
   "metadata": {},
   "outputs": [],
   "source": []
  }
 ],
 "metadata": {
  "kernelspec": {
   "display_name": "Python 3 (ipykernel)",
   "language": "python",
   "name": "python3"
  },
  "language_info": {
   "codemirror_mode": {
    "name": "ipython",
    "version": 3
   },
   "file_extension": ".py",
   "mimetype": "text/x-python",
   "name": "python",
   "nbconvert_exporter": "python",
   "pygments_lexer": "ipython3",
   "version": "3.10.9"
  }
 },
 "nbformat": 4,
 "nbformat_minor": 5
}
